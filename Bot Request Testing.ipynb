{
 "cells": [
  {
   "cell_type": "code",
   "execution_count": 1,
   "id": "35b5edf3",
   "metadata": {},
   "outputs": [],
   "source": [
    "import json\n",
    "import requests\n",
    "from pprint import pprint  # prettyprint\n",
    "\n",
    "import selenium\n",
    "from selenium.webdriver.common.by import By\n",
    "from selenium.webdriver.support.ui import Select\n",
    "from selenium import webdriver\n",
    "from selenium.webdriver.common.keys import Keys\n",
    "from selenium.webdriver.chrome.options import Options\n",
    "from seleniumrequests.request import RequestsSessionMixin\n",
    "\n",
    "import threading\n",
    "import undetected_chromedriver\n",
    "import subprocess\n",
    "import time\n",
    "import random\n",
    "from undetected_chromedriver import Chrome"
   ]
  },
  {
   "cell_type": "code",
   "execution_count": 2,
   "id": "a7ea2de8",
   "metadata": {},
   "outputs": [],
   "source": [
    "def self_start(account=\"acc\", pswd=\"pswd\", county='Cambridgeshire', month_pref_lst=None):\n",
    "    \"\"\"\n",
    "    This function takes several inputs.\n",
    "    The function helps people who needs to apply their visa reservation online by implementing\n",
    "    self-form-entering bot to the website: https://uk.blsspainvisa.com/visa4spain/login.\n",
    "    :return:\n",
    "    \"\"\"\n",
    "    options = undetected_chromedriver.ChromeOptions()\n",
    "    options.headless = False\n",
    "\n",
    "\n",
    "    # Be sure to update the chrome driver to the latest version if old version chrome error occurs\n",
    "    driver = undetected_chromedriver.Chrome(options=options, use_subprocess=True)\n",
    "    reserve = False\n",
    "    month_lst = [0, 0, 0, 0, 0, 0, 0, \"July 2022\", \"August 2022\", \"September 2022\",\n",
    "                    \"October 2022\", \"November 2022\", \"December 2022\"]\n",
    "\n",
    "    try:\n",
    "        driver.get('https://uk.blsspainvisa.com/visa4spain/login')\n",
    "        driver.switch_to.window(driver.window_handles[-1])\n",
    "\n",
    "        time.sleep(15)\n",
    "\n",
    "        email = driver.find_element(by=By.XPATH, value='//*[@id=\"loginForm\"]/div[1]/div/div[2]/input')\n",
    "        email.clear()\n",
    "        email.send_keys(account)\n",
    "        password = driver.find_element(by=By.XPATH, value='//*[@id=\"loginForm\"]/div[2]/div/div[2]/input')\n",
    "        password.clear()\n",
    "        password.send_keys(pswd)\n",
    "\n",
    "        # Press Login\n",
    "        driver.find_element(by=By.XPATH, value='//*[@id=\"loginForm\"]/div[3]/div/div/button').click()\n",
    "        # Appointment\n",
    "        # TODO: Manage multi-user appointment check\n",
    "        if not len(driver.find_elements(by=By.XPATH, value='//*[@id=\"content\"]/div/div[2]/div[2]/div[3]/a')):\n",
    "            return True\n",
    "        appointment_btn = driver.find_element(by=By.XPATH, value='//*[@id=\"content\"]/div/div[2]/div[2]/div[3]/a')\n",
    "        appointment_btn.click()\n",
    "\n",
    "        print(driver.find_element_by_xpath(\"//div[@id='json']\").text)\n",
    "    except:\n",
    "        return False"
   ]
  },
  {
   "cell_type": "code",
   "execution_count": 71,
   "id": "34b6c467",
   "metadata": {},
   "outputs": [
    {
     "data": {
      "text/plain": [
       "False"
      ]
     },
     "execution_count": 71,
     "metadata": {},
     "output_type": "execute_result"
    }
   ],
   "source": [
    "self_start()"
   ]
  },
  {
   "cell_type": "markdown",
   "id": "d3d01728",
   "metadata": {},
   "source": [
    "## First Approach: Using Request + Undected Chromedriver\n",
    "\n",
    "Using SeleniumRequest to Extract the data, but it seems not working for now(Getting `Error 403`).<br>\n",
    "\n",
    "Inspiration: https://github.com/cryzed/Selenium-Requests"
   ]
  },
  {
   "cell_type": "code",
   "execution_count": 75,
   "id": "48fa21aa",
   "metadata": {},
   "outputs": [
    {
     "name": "stdout",
     "output_type": "stream",
     "text": [
      "<Response [403]>\n"
     ]
    }
   ],
   "source": [
    "class MyCustomWebDriver(RequestsSessionMixin, undetected_chromedriver.Chrome):\n",
    "    pass\n",
    "\n",
    "driver = MyCustomWebDriver()\n",
    "response = driver.request('GET', 'https://uk.blsspainvisa.com/visa4spain/login')\n",
    "print(response)"
   ]
  },
  {
   "cell_type": "markdown",
   "id": "c8c5a16b",
   "metadata": {},
   "source": [
    "## Second Approach: Selecting Dates Using Source Page\n",
    "\n",
    "The idea is to:\n",
    "1. **[Done]** Extract `available_dates` from script section in the source page(see *Date Selection For BLS.mhtml*)\n",
    "\n",
    "2. Find out ways to iterate all available days and sent out requests on behalf of the user."
   ]
  },
  {
   "cell_type": "code",
   "execution_count": 6,
   "id": "890ec52f",
   "metadata": {},
   "outputs": [
    {
     "name": "stdout",
     "output_type": "stream",
     "text": [
      "<Response [403]>\n"
     ]
    }
   ],
   "source": []
  },
  {
   "cell_type": "code",
   "execution_count": null,
   "id": "157685c8",
   "metadata": {},
   "outputs": [],
   "source": []
  }
 ],
 "metadata": {
  "kernelspec": {
   "display_name": "Python 3 (ipykernel)",
   "language": "python",
   "name": "python3"
  },
  "language_info": {
   "codemirror_mode": {
    "name": "ipython",
    "version": 3
   },
   "file_extension": ".py",
   "mimetype": "text/x-python",
   "name": "python",
   "nbconvert_exporter": "python",
   "pygments_lexer": "ipython3",
   "version": "3.9.12"
  }
 },
 "nbformat": 4,
 "nbformat_minor": 5
}
