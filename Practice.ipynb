{
 "cells": [
  {
   "cell_type": "code",
   "execution_count": 1,
   "id": "9843401d",
   "metadata": {},
   "outputs": [],
   "source": [
    "import json\n",
    "import requests\n",
    "from pprint import pprint  # prettyprint"
   ]
  },
  {
   "cell_type": "markdown",
   "id": "dc8b4825",
   "metadata": {},
   "source": [
    "Now we get the result from python.org by imeplementing requests.get() method"
   ]
  },
  {
   "cell_type": "code",
   "execution_count": 2,
   "id": "63edfea8",
   "metadata": {},
   "outputs": [
    {
     "name": "stdout",
     "output_type": "stream",
     "text": [
      "<Response [200]>\n"
     ]
    }
   ],
   "source": [
    "r = requests.get('https://www.python.org/')\n",
    "print(r)"
   ]
  },
  {
   "cell_type": "markdown",
   "id": "bdd64c3d",
   "metadata": {},
   "source": [
    "Status Code is the message sent by the server to indicate that the current status of the request.\n",
    "\n",
    "200: Success<br>\n",
    "300: Redirected<br>\n",
    "400: Client Error<br>\n",
    "500: Server Error<br>\n",
    "404: Page Not Found Error<br>\n",
    "\n",
    "Normally code that is less than 400 is regarded as a successful request."
   ]
  },
  {
   "cell_type": "code",
   "execution_count": 3,
   "id": "db603c63",
   "metadata": {},
   "outputs": [
    {
     "name": "stdout",
     "output_type": "stream",
     "text": [
      "200\n"
     ]
    }
   ],
   "source": [
    "print(r.status_code)"
   ]
  },
  {
   "cell_type": "markdown",
   "id": "56ab503e",
   "metadata": {},
   "source": [
    "Use `dir(r)` to retrieve the attribuate of the request."
   ]
  },
  {
   "cell_type": "code",
   "execution_count": 4,
   "id": "8dfc6c78",
   "metadata": {},
   "outputs": [],
   "source": [
    "r_attribs = [c for c in dir(r) if not c.startswith(\"_\")]"
   ]
  },
  {
   "cell_type": "markdown",
   "id": "8e2df100",
   "metadata": {},
   "source": [
    "## Content And Text\n",
    "We can use `r.content` or `r.text` to read the raw text of the website."
   ]
  },
  {
   "cell_type": "code",
   "execution_count": 5,
   "id": "4415f556",
   "metadata": {},
   "outputs": [
    {
     "name": "stdout",
     "output_type": "stream",
     "text": [
      "b'<!doctype html>\\n<!--[if lt IE 7]>   <html class=\"no-js ie6 lt-ie7 lt-ie8 lt-ie9\">   <![endif]-->\\n<!-'\n"
     ]
    }
   ],
   "source": [
    "print(r.content[:100])"
   ]
  },
  {
   "cell_type": "code",
   "execution_count": 6,
   "id": "7480796c",
   "metadata": {},
   "outputs": [
    {
     "name": "stdout",
     "output_type": "stream",
     "text": [
      "<!doctype html>\n",
      "<!--[if lt IE 7]>   <html class=\"no-js ie6 lt-ie7 lt-ie8 lt-ie9\">   <![endif]-->\n",
      "<!--[if IE 7]>      <html class=\"no-js ie7 lt-ie8 lt-ie9\">          <![endif]-->\n",
      "<!--[if IE 8]>      <html class=\"no-js ie8 lt-ie9\">                 <![endif]-->\n",
      "<!--[if gt IE 8]><!--><html class=\"no-js\" lang=\"en\" dir=\"ltr\">  <!--<![endif]-->\n",
      "\n",
      "<head>\n",
      "    <meta charset=\"utf-8\">\n",
      "    <meta http-equiv=\"X-UA-Compatible\" content=\"IE=edge\">\n",
      "\n",
      "    <link rel=\"prefetch\" href=\"//ajax.googleapis.com/ajax/libs/jqu\n"
     ]
    }
   ],
   "source": [
    "print(r.text[:500])"
   ]
  },
  {
   "cell_type": "markdown",
   "id": "d3cf42bb",
   "metadata": {},
   "source": [
    "## Scraping Images From Website\n",
    "\n",
    "It is basically the same as requesting info in the previous blocks. Yet if we'd like to download the image, we have to write the image in wb(write byte) mode with given filename, file.png for instance in this example."
   ]
  },
  {
   "cell_type": "code",
   "execution_count": 7,
   "id": "8b69beb2",
   "metadata": {},
   "outputs": [],
   "source": [
    "r2 = requests.get('https://s.yimg.com/ny/api/res/1.2/yhOnw.7ddMaRneVo.JBlvw--/YXBwaWQ9aGlnaGxhbmRlcjt3PTk2MDtjZj13ZWJw/https://s.yimg.com/os/creatr-uploaded-images/2021-09/4fd0c420-1c3c-11ec-b1ff-ea1868351416')\n",
    "\n",
    "with open(\"No_color_2.png\", \"wb\") as f:\n",
    "    f.write(r2.content)"
   ]
  },
  {
   "cell_type": "markdown",
   "id": "d815e023",
   "metadata": {},
   "source": [
    "## Headers\n",
    "\n",
    "Headers normally contains metadata, you can regard it as a JSON content with all the important infomation. We use `r.headers` to retrieve JSON object, and use `r.headers.items()` to extract a collection of keys and values."
   ]
  },
  {
   "cell_type": "code",
   "execution_count": 8,
   "id": "eaa8221f",
   "metadata": {},
   "outputs": [
    {
     "name": "stdout",
     "output_type": "stream",
     "text": [
      "Connection : keep-alive\n",
      "Content-Length : 49890\n",
      "Server : nginx\n",
      "Content-Type : text/html; charset=utf-8\n",
      "X-Frame-Options : DENY\n",
      "Via : 1.1 vegur, 1.1 varnish, 1.1 varnish\n",
      "Accept-Ranges : bytes\n",
      "Date : Fri, 08 Jul 2022 09:45:39 GMT\n",
      "Age : 3286\n",
      "X-Served-By : cache-iad-kiad7000025-IAD, cache-lcy19257-LCY\n",
      "X-Cache : HIT, HIT\n",
      "X-Cache-Hits : 395, 5\n",
      "X-Timer : S1657273540.898550,VS0,VE0\n",
      "Vary : Cookie\n",
      "Strict-Transport-Security : max-age=63072000; includeSubDomains\n"
     ]
    }
   ],
   "source": [
    "for k, v in r.headers.items():\n",
    "    print(k, \":\", v)"
   ]
  },
  {
   "cell_type": "markdown",
   "id": "01cbec0e",
   "metadata": {},
   "source": [
    "## Query Parametrization\n",
    "Just like injection attack prevention in SQL, we can pack the parameters into a dictionary or tuple of (key, value)if you wish, and combine with the designated website to get the parametrized request.\n",
    "\n",
    "The format would be `request.get(\"YourWebsite.com\", params=YourParams)`\n",
    "\n",
    "We can also check the url of the parametrized query by using `r.url`"
   ]
  },
  {
   "cell_type": "code",
   "execution_count": 9,
   "id": "b3cbc198",
   "metadata": {},
   "outputs": [
    {
     "name": "stdout",
     "output_type": "stream",
     "text": [
      "<!DOCTYPE html>\n",
      "<html lang=\"en\">\n",
      "\n",
      "<head>\n",
      "    <meta charset=\"UTF-8\">\n",
      "    <title>httpbin.org</title>\n",
      "    <link href=\"https://fonts.googleapis.com/css?family=Open+Sans:400,700|Source+Code+Pro:300,600|Titillium+Web:400,600,700\"\n",
      "        rel=\"stylesheet\">\n",
      "    <link rel=\"stylesheet\" type=\"text/css\" href=\"/flasgger_static/swagger-ui.css\">\n",
      "    <link rel=\"icon\" type=\"image/png\" href=\"/static/favicon.ico\" sizes=\"64x64 32x32 16x16\" />\n",
      "    <style>\n",
      "        html {\n",
      "            box-sizing: border-box;\n",
      "            overflow: -moz-scrollbars-vertical;\n",
      "            overflow-y: scroll;\n",
      "        }\n",
      "\n",
      "        *,\n",
      "        \n"
     ]
    }
   ],
   "source": [
    "# Setting parameters\n",
    "parameter= {'page':5 , 'count':10}\n",
    "r=requests.get('http://httpbin.org/', params=parameter)\n",
    "print(r.text[:600])"
   ]
  },
  {
   "cell_type": "code",
   "execution_count": 10,
   "id": "90136a41",
   "metadata": {},
   "outputs": [
    {
     "data": {
      "text/plain": [
       "'http://httpbin.org/?page=5&count=10'"
      ]
     },
     "execution_count": 10,
     "metadata": {},
     "output_type": "execute_result"
    }
   ],
   "source": [
    "r.url"
   ]
  },
  {
   "cell_type": "markdown",
   "id": "ef40d0ee",
   "metadata": {},
   "source": [
    "## Submitting Data To Server\n",
    "\n",
    "### Post\n",
    "\n",
    "Similar to the previous section, we need a collection of parameters to determine what to submit for server to handle. However, this time, we use `request.post(\"YourWebsite.com\", params=YourParams)` to implement the submitting process."
   ]
  },
  {
   "cell_type": "code",
   "execution_count": 11,
   "id": "82b04c34",
   "metadata": {},
   "outputs": [
    {
     "name": "stdout",
     "output_type": "stream",
     "text": [
      "{'args': {},\n",
      " 'data': '',\n",
      " 'files': {},\n",
      " 'form': {'Email': 'John@mail.com', 'Name': 'Jhon'},\n",
      " 'headers': {'Accept': '*/*',\n",
      "             'Accept-Encoding': 'gzip, deflate, br',\n",
      "             'Content-Length': '31',\n",
      "             'Content-Type': 'application/x-www-form-urlencoded',\n",
      "             'Host': 'httpbin.org',\n",
      "             'User-Agent': 'python-requests/2.27.1',\n",
      "             'X-Amzn-Trace-Id': 'Root=1-62c7fcc4-486aeee81e2258c971c9cade'},\n",
      " 'json': None,\n",
      " 'origin': '31.205.121.71',\n",
      " 'url': 'http://httpbin.org/post'}\n"
     ]
    }
   ],
   "source": [
    "# POST request\n",
    "param = { 'Name':'Jhon', 'Email': 'John@mail.com'}\n",
    "r = requests.post('http://httpbin.org/post', data=param)\n",
    "\n",
    "# As we are getting a json response, instead of using the text command, I am using json().\n",
    "pprint(r.json())"
   ]
  },
  {
   "cell_type": "markdown",
   "id": "02748e41",
   "metadata": {},
   "source": [
    "### Put\n",
    "\n",
    "`r.put()` and `r.post()` has similar functionality. When using r.put, we impose the new data to the server, causing the existing data replaced."
   ]
  },
  {
   "cell_type": "code",
   "execution_count": 14,
   "id": "1e77c6ad",
   "metadata": {},
   "outputs": [
    {
     "name": "stdout",
     "output_type": "stream",
     "text": [
      "<Response [200]>\n",
      "{'args': {},\n",
      " 'data': '',\n",
      " 'files': {},\n",
      " 'form': {'name': 'abcd'},\n",
      " 'headers': {'Accept': '*/*',\n",
      "             'Accept-Encoding': 'gzip, deflate, br',\n",
      "             'Content-Length': '9',\n",
      "             'Content-Type': 'application/x-www-form-urlencoded',\n",
      "             'Host': 'httpbin.org',\n",
      "             'User-Agent': 'python-requests/2.27.1',\n",
      "             'X-Amzn-Trace-Id': 'Root=1-62c7fd55-5f95081d18f7a76c2636aeed'},\n",
      " 'json': None,\n",
      " 'origin': '31.205.121.71',\n",
      " 'url': 'https://httpbin.org/put'}\n"
     ]
    }
   ],
   "source": [
    "r = requests.put('https://httpbin.org/put', data ={'name':'abcd'})\n",
    "print(r) \n",
    "pprint(r.json())"
   ]
  },
  {
   "cell_type": "markdown",
   "id": "51968c98",
   "metadata": {},
   "source": [
    "## Delete\n",
    "The `r.delete(\"YourWebsite.com\", data)` deletes the entities that are from the server. There are 3 common signals of respond when sending a delete request:\n",
    "\n",
    "1. 200: [OK] The request is received by the server and the data has been removed.\n",
    "2. 202: [Accepted] The request is received yet not enacted.\n",
    "3. 204: [NoContent] The request is received yet no data found.\n",
    "\n",
    "Note that even though the request has been sent to the server, the action may not always been executed."
   ]
  },
  {
   "cell_type": "code",
   "execution_count": 19,
   "id": "55e65c9b",
   "metadata": {},
   "outputs": [
    {
     "name": "stdout",
     "output_type": "stream",
     "text": [
      "<Response [200]>\n",
      "{'args': {},\n",
      " 'data': '',\n",
      " 'files': {},\n",
      " 'form': {'name': 'abcd'},\n",
      " 'headers': {'Accept': '*/*',\n",
      "             'Accept-Encoding': 'gzip, deflate, br',\n",
      "             'Content-Length': '9',\n",
      "             'Content-Type': 'application/x-www-form-urlencoded',\n",
      "             'Host': 'httpbin.org',\n",
      "             'User-Agent': 'python-requests/2.27.1',\n",
      "             'X-Amzn-Trace-Id': 'Root=1-62c7feb7-055f2e493f04dbec1c34c0e0'},\n",
      " 'json': None,\n",
      " 'origin': '31.205.121.71',\n",
      " 'url': 'https://httpbin.org/delete'}\n"
     ]
    }
   ],
   "source": [
    "r = requests.delete('https://httpbin.org/delete', data ={'name':'abcd'}) \n",
    "print(r) \n",
    "pprint(r.json())"
   ]
  },
  {
   "cell_type": "markdown",
   "id": "dbc07f6a",
   "metadata": {},
   "source": [
    "## Head\n",
    "\n",
    "Sometimes we just want the metadata instead of the whole content like `r.get()`, the head function retrieve only the headers of given url.  You can see that `r.text` returns nothing in the third line of code."
   ]
  },
  {
   "cell_type": "code",
   "execution_count": 28,
   "id": "6e0c1b7d",
   "metadata": {},
   "outputs": [
    {
     "name": "stdout",
     "output_type": "stream",
     "text": [
      "{'Date': 'Fri, 08 Jul 2022 09:59:46 GMT', 'Content-Type': 'text/html; charset=utf-8', 'Content-Length': '9593', 'Connection': 'keep-alive', 'Server': 'gunicorn/19.9.0', 'Access-Control-Allow-Origin': '*', 'Access-Control-Allow-Credentials': 'true'}\n",
      "The content of the url with head command is:  \n"
     ]
    }
   ],
   "source": [
    "r = requests.head('https://httpbin.org/') \n",
    "print(r.headers) \n",
    "print(\"The content of the url with head command is: \", r.text)"
   ]
  },
  {
   "cell_type": "markdown",
   "id": "17474440",
   "metadata": {},
   "source": [
    "## Authentication\n",
    "\n",
    "The authentication gives the server an idea who you are. To implement this, add `auth=(\"accountname\", \"password\")` as a parameter into any requests conneted to the server.\n",
    "\n",
    "### Correct Combination of Credentials"
   ]
  },
  {
   "cell_type": "code",
   "execution_count": 31,
   "id": "1c66bb8f",
   "metadata": {},
   "outputs": [
    {
     "name": "stdout",
     "output_type": "stream",
     "text": [
      "<Response [200]>\n",
      "{\n",
      "  \"authenticated\": true, \n",
      "  \"user\": \"abcd\"\n",
      "}\n",
      "\n"
     ]
    }
   ],
   "source": [
    "r= requests.get('http://httpbin.org/basic-auth/abcd/efgh', auth=('abcd','efgh'))\n",
    "print(r)\n",
    "print(r.text)"
   ]
  },
  {
   "cell_type": "markdown",
   "id": "d43732df",
   "metadata": {},
   "source": [
    "### Wrong Credentials\n",
    "\n",
    "Incorrect combination of credentials will leads to MSG401, meaning that the client is unauthorized, thus reject the request."
   ]
  },
  {
   "cell_type": "code",
   "execution_count": 32,
   "id": "522863b8",
   "metadata": {},
   "outputs": [
    {
     "name": "stdout",
     "output_type": "stream",
     "text": [
      "<Response [401]>\n"
     ]
    }
   ],
   "source": [
    "r= requests.get('http://httpbin.org/basic-auth/abcd/efgh', auth=('abcdfgh','efgh'))\n",
    "print(r)"
   ]
  },
  {
   "cell_type": "markdown",
   "id": "b9d71353",
   "metadata": {},
   "source": [
    "## Timeout\n",
    "The timeout command is often used to handle the latency of either connecting/reading/changing the server.\n",
    "\n",
    "The usage is as follows:<br>\n",
    "    &emsp;1\\. `r.get(\"YourWebsite.com\", timeout=5)`, this set the waiting time to be 5 second.<br>\n",
    "    &emsp;2\\. `r.get(\"YourWebsite.com\", timeout=(5,10))`, this set the connection time wait to be 5 second, and the reading time to be 10 seconds."
   ]
  },
  {
   "cell_type": "code",
   "execution_count": 35,
   "id": "c395e318",
   "metadata": {},
   "outputs": [
    {
     "name": "stdout",
     "output_type": "stream",
     "text": [
      "<Response [401]>\n"
     ]
    }
   ],
   "source": [
    "r=requests.get('http://httpbin.org/basic-auth/abcd/efgh', timeout=(3,7))\n",
    "print(r)"
   ]
  },
  {
   "cell_type": "code",
   "execution_count": null,
   "id": "bbad03f3",
   "metadata": {},
   "outputs": [],
   "source": []
  }
 ],
 "metadata": {
  "kernelspec": {
   "display_name": "Python 3 (ipykernel)",
   "language": "python",
   "name": "python3"
  },
  "language_info": {
   "codemirror_mode": {
    "name": "ipython",
    "version": 3
   },
   "file_extension": ".py",
   "mimetype": "text/x-python",
   "name": "python",
   "nbconvert_exporter": "python",
   "pygments_lexer": "ipython3",
   "version": "3.9.12"
  }
 },
 "nbformat": 4,
 "nbformat_minor": 5
}
