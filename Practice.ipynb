{
 "cells": [
  {
   "cell_type": "code",
   "execution_count": 11,
   "id": "feba43bd",
   "metadata": {},
   "outputs": [],
   "source": [
    "import json\n",
    "import requests\n",
    "from pprint import pprint  # prettyprint"
   ]
  },
  {
   "cell_type": "markdown",
   "id": "67f5c80f",
   "metadata": {},
   "source": [
    "Now we get the result from python.org by imeplementing requests.get() method"
   ]
  },
  {
   "cell_type": "code",
   "execution_count": 4,
   "id": "5c49d9b9",
   "metadata": {},
   "outputs": [
    {
     "name": "stdout",
     "output_type": "stream",
     "text": [
      "<Response [200]>\n"
     ]
    }
   ],
   "source": [
    "r = requests.get('https://www.python.org/')\n",
    "print(r)"
   ]
  },
  {
   "cell_type": "markdown",
   "id": "d5665a2e",
   "metadata": {},
   "source": [
    "Status Code is the message sent by the server to indicate that the current status of the request.\n",
    "\n",
    "200: Success<br>\n",
    "300: Redirected<br>\n",
    "400: Client Error<br>\n",
    "500: Server Error<br>\n",
    "404: Page Not Found Error<br>\n",
    "\n",
    "Normally code that is less than 400 is regarded as a successful request."
   ]
  },
  {
   "cell_type": "code",
   "execution_count": 5,
   "id": "574c0d7b",
   "metadata": {},
   "outputs": [
    {
     "name": "stdout",
     "output_type": "stream",
     "text": [
      "200\n"
     ]
    }
   ],
   "source": [
    "print(r.status_code)"
   ]
  },
  {
   "cell_type": "markdown",
   "id": "576d1fae",
   "metadata": {},
   "source": [
    "Use `dir(r)` to retrieve the attribuate of the request."
   ]
  },
  {
   "cell_type": "code",
   "execution_count": 13,
   "id": "2f8347f1",
   "metadata": {},
   "outputs": [],
   "source": [
    "r_attribs = [c for c in dir(r) if not c.startswith(\"_\")]"
   ]
  },
  {
   "cell_type": "markdown",
   "id": "cf0b3b73",
   "metadata": {},
   "source": [
    "## Content And Text\n",
    "We can use `r.content` or `r.text` to read the raw text of the website."
   ]
  },
  {
   "cell_type": "code",
   "execution_count": 14,
   "id": "cd0347dc",
   "metadata": {},
   "outputs": [
    {
     "name": "stdout",
     "output_type": "stream",
     "text": [
      "b'<!doctype html>\\n<!--[if lt IE 7]>   <html class=\"no-js ie6 lt-ie7 lt-ie8 lt-ie9\">   <![endif]-->\\n<!-'\n"
     ]
    }
   ],
   "source": [
    "print(r.content[:100])"
   ]
  },
  {
   "cell_type": "code",
   "execution_count": 17,
   "id": "0a7c3e6f",
   "metadata": {},
   "outputs": [
    {
     "name": "stdout",
     "output_type": "stream",
     "text": [
      "<!doctype html>\n",
      "<!--[if lt IE 7]>   <html class=\"no-js ie6 lt-ie7 lt-ie8 lt-ie9\">   <![endif]-->\n",
      "<!--[if IE 7]>      <html class=\"no-js ie7 lt-ie8 lt-ie9\">          <![endif]-->\n",
      "<!--[if IE 8]>      <html class=\"no-js ie8 lt-ie9\">                 <![endif]-->\n",
      "<!--[if gt IE 8]><!--><html class=\"no-js\" lang=\"en\" dir=\"ltr\">  <!--<![endif]-->\n",
      "\n",
      "<head>\n",
      "    <meta charset=\"utf-8\">\n",
      "    <meta http-equiv=\"X-UA-Compatible\" content=\"IE=edge\">\n",
      "\n",
      "    <link rel=\"prefetch\" href=\"//ajax.googleapis.com/ajax/libs/jqu\n"
     ]
    }
   ],
   "source": [
    "print(r.text[:500])"
   ]
  },
  {
   "cell_type": "markdown",
   "id": "36fbd47e",
   "metadata": {},
   "source": [
    "## Scraping Images From Website\n",
    "\n",
    "It is basically the same as requesting info in the previous blocks. Yet if we'd like to download the image, we have to write the image in wb(write byte) mode with given filename, file.png for instance in this example."
   ]
  },
  {
   "cell_type": "code",
   "execution_count": 21,
   "id": "08a16465",
   "metadata": {},
   "outputs": [],
   "source": [
    "r2 = requests.get('https://s.yimg.com/ny/api/res/1.2/yhOnw.7ddMaRneVo.JBlvw--/YXBwaWQ9aGlnaGxhbmRlcjt3PTk2MDtjZj13ZWJw/https://s.yimg.com/os/creatr-uploaded-images/2021-09/4fd0c420-1c3c-11ec-b1ff-ea1868351416')\n",
    "\n",
    "with open(\"No_color_2.png\", \"wb\") as f:\n",
    "    f.write(r2.content)"
   ]
  },
  {
   "cell_type": "markdown",
   "id": "2a6b4d44",
   "metadata": {},
   "source": [
    "## Headers\n",
    "\n",
    "Continue..."
   ]
  },
  {
   "cell_type": "code",
   "execution_count": null,
   "id": "02761773",
   "metadata": {},
   "outputs": [],
   "source": []
  }
 ],
 "metadata": {
  "kernelspec": {
   "display_name": "Python 3 (ipykernel)",
   "language": "python",
   "name": "python3"
  },
  "language_info": {
   "codemirror_mode": {
    "name": "ipython",
    "version": 3
   },
   "file_extension": ".py",
   "mimetype": "text/x-python",
   "name": "python",
   "nbconvert_exporter": "python",
   "pygments_lexer": "ipython3",
   "version": "3.9.12"
  }
 },
 "nbformat": 4,
 "nbformat_minor": 5
}
